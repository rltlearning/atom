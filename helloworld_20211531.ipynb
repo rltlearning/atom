{
  "nbformat": 4,
  "nbformat_minor": 0,
  "metadata": {
    "colab": {
      "name": "helloworld_20211531.ipynb",
      "provenance": [],
      "authorship_tag": "ABX9TyOesfmp9vsoxQP7wlxrgZI5",
      "include_colab_link": true
    },
    "kernelspec": {
      "name": "python3",
      "display_name": "Python 3"
    },
    "language_info": {
      "name": "python"
    }
  },
  "cells": [
    {
      "cell_type": "markdown",
      "metadata": {
        "id": "view-in-github",
        "colab_type": "text"
      },
      "source": [
        "<a href=\"https://colab.research.google.com/github/rltlearning/atom/blob/master/helloworld_20211531.ipynb\" target=\"_parent\"><img src=\"https://colab.research.google.com/assets/colab-badge.svg\" alt=\"Open In Colab\"/></a>"
      ]
    },
    {
      "cell_type": "code",
      "metadata": {
        "id": "mxxgVOlC-OE7"
      },
      "source": [
        "print(\"Hello World!!\")\n",
        "id = 20211531\n",
        "print(id)"
      ],
      "execution_count": null,
      "outputs": []
    }
  ]
}